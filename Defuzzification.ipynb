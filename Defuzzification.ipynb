{
  "nbformat": 4,
  "nbformat_minor": 0,
  "metadata": {
    "colab": {
      "provenance": []
    },
    "kernelspec": {
      "name": "python3",
      "display_name": "Python 3"
    },
    "language_info": {
      "name": "python"
    }
  },
  "cells": [
    {
      "cell_type": "code",
      "execution_count": 1,
      "metadata": {
        "colab": {
          "base_uri": "https://localhost:8080/"
        },
        "id": "J_ohIUN5i5q8",
        "outputId": "5ae989f9-bb4c-4fe5-cdc8-2662e4db434a"
      },
      "outputs": [
        {
          "output_type": "stream",
          "name": "stdout",
          "text": [
            "Defuzzification using Centroid: 4.999999999999999\n",
            "Defuzzification using Center of Sum: 4.999999999999999\n",
            "Defuzzification using Mean of Maxima: 5.0\n"
          ]
        }
      ],
      "source": [
        "import numpy as np\n",
        "\n",
        "# Define the membership function for a fuzzy set\n",
        "def membership_function(x, a, b, c):\n",
        "    if x <= a or x >= c:\n",
        "        return 0\n",
        "    elif a < x <= b:\n",
        "        return (x - a) / (b - a)\n",
        "    elif b < x < c:\n",
        "        return (c - x) / (c - b)\n",
        "\n",
        "# Define the defuzzification methods\n",
        "def centroid_defuzzification(membership, universe):\n",
        "    numerator = np.sum(membership * universe)\n",
        "    denominator = np.sum(membership)\n",
        "    return numerator / denominator\n",
        "\n",
        "def center_of_sum_defuzzification(membership, universe):\n",
        "    return np.sum(membership * universe) / np.sum(membership)\n",
        "\n",
        "def mean_of_maxima_defuzzification(membership, universe):\n",
        "    maxima = universe[membership == np.max(membership)]\n",
        "    return np.mean(maxima)\n",
        "\n",
        "# Define the fuzzy set parameters\n",
        "a = 0\n",
        "b = 5\n",
        "c = 10\n",
        "universe = np.linspace(0, 10, 100)\n",
        "membership = np.array([membership_function(x, a, b, c) for x in universe])\n",
        "\n",
        "# Perform defuzzification using centroid method\n",
        "centroid_result = centroid_defuzzification(membership, universe)\n",
        "\n",
        "# Perform defuzzification using center of sum method\n",
        "center_of_sum_result = center_of_sum_defuzzification(membership, universe)\n",
        "\n",
        "# Perform defuzzification using mean of maxima method\n",
        "mean_of_maxima_result = mean_of_maxima_defuzzification(membership, universe)\n",
        "\n",
        "# Display results\n",
        "print(\"Defuzzification using Centroid:\", centroid_result)\n",
        "print(\"Defuzzification using Center of Sum:\", center_of_sum_result)\n",
        "print(\"Defuzzification using Mean of Maxima:\", mean_of_maxima_result)\n"
      ]
    }
  ]
}