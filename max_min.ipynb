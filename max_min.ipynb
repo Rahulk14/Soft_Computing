{
  "nbformat": 4,
  "nbformat_minor": 0,
  "metadata": {
    "colab": {
      "provenance": []
    },
    "kernelspec": {
      "name": "python3",
      "display_name": "Python 3"
    },
    "language_info": {
      "name": "python"
    }
  },
  "cells": [
    {
      "cell_type": "code",
      "execution_count": 5,
      "metadata": {
        "id": "fMqPQ-JFcYgs",
        "colab": {
          "base_uri": "https://localhost:8080/"
        },
        "outputId": "f2ca5178-2ed1-4e07-c203-0b894be9b3e5"
      },
      "outputs": [
        {
          "output_type": "stream",
          "name": "stdout",
          "text": [
            "Enter the size of the vectors: 2\n",
            "Enter elements of vector A separated by space:\n",
            "1 2 3 4\n",
            "Enter elements of vector B separated by space:\n",
            "3 5 4 6\n",
            "\n",
            "The resulting relation after max-min composition is:\n",
            "[[3. 5.]\n",
            " [3. 5.]]\n"
          ]
        }
      ],
      "source": [
        "import numpy as np\n",
        "\n",
        "# Define the max-min composition function\n",
        "def max_min_composition(A, B):\n",
        "    n = len(A)\n",
        "    C = np.zeros((n, n))\n",
        "    for i in range(n):\n",
        "        for j in range(n):\n",
        "            min_max = min(max(A[i, k], B[k, j]) for k in range(n))\n",
        "            C[i, j] = min_max\n",
        "    return C\n",
        "\n",
        "# Get input vectors from the user\n",
        "n = int(input(\"Enter the size of the vectors: \"))\n",
        "print(\"Enter elements of vector A separated by space:\")\n",
        "A = np.array(list(map(float, input().split()))).reshape((n, n))\n",
        "print(\"Enter elements of vector B separated by space:\")\n",
        "B = np.array(list(map(float, input().split()))).reshape((n, n))\n",
        "\n",
        "# Perform max-min composition\n",
        "relation = max_min_composition(A, B)\n",
        "\n",
        "# Display the resulting relation\n",
        "print(\"\\nThe resulting relation after max-min composition is:\")\n",
        "print(relation)\n",
        "\n"
      ]
    }
  ]
}